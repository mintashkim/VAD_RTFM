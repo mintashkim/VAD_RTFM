{
 "cells": [
  {
   "cell_type": "code",
   "execution_count": 10,
   "id": "08a86d2c-6495-409f-a4b3-42d6ff4817d3",
   "metadata": {
    "scrolled": true,
    "tags": []
   },
   "outputs": [],
   "source": [
    "import os\n",
    "with open(\"ucf-i3d.list\", 'r') as f:\n",
    "    lines = f.readlines()\n",
    "    \n",
    "with open(\"ucf-x3d.list\", 'w') as f2:\n",
    "    for line in lines:\n",
    "        dirname, basename = line.replace(\"G:\\\\UCF_Train_ten_crop_i3d\", \"/home/workspaces/datasets/UCF_Crimes/features_x3d\").split(\"\\\\\")\n",
    "        basename = basename.replace('_i3d', '')\n",
    "        \n",
    "        if 'Normal' in line:\n",
    "            newpath = os.path.join(dirname, 'normal', basename)\n",
    "        else:\n",
    "            newpath = os.path.join(dirname, 'abnormal', basename)\n",
    "            \n",
    "        # print(newpath)\n",
    "        \n",
    "        f2.write(newpath)"
   ]
  },
  {
   "cell_type": "code",
   "execution_count": 12,
   "id": "29ea67bf-24c3-4ef8-9710-bf882a39c972",
   "metadata": {},
   "outputs": [],
   "source": [
    "with open(\"ucf-i3d-test.list\", 'r') as f:\n",
    "    lines = f.readlines()\n",
    "    \n",
    "with open(\"ucf-x3d-test.list\", 'w') as f2:\n",
    "    for line in lines:\n",
    "        dirname, basename = line.replace(\"G:\\\\UCF_Test_ten_crop_i3d\", \"/home/workspaces/datasets/UCF_Crimes/features_x3d\").split(\"\\\\\")\n",
    "        basename = basename.replace('_i3d', '')\n",
    "        \n",
    "        if 'Normal' in line:\n",
    "            newpath = os.path.join(dirname, 'normal', basename)\n",
    "        else:\n",
    "            newpath = os.path.join(dirname, 'abnormal', basename)\n",
    "            \n",
    "        # print(newpath)\n",
    "        \n",
    "        f2.write(newpath)"
   ]
  },
  {
   "cell_type": "code",
   "execution_count": 3,
   "id": "c24c4461-d61b-4416-8d48-4b21311e5ee1",
   "metadata": {},
   "outputs": [
    {
     "data": {
      "text/plain": [
       "'G:\\\\UCF_Train_ten_crop_i3d\\\\Abuse001_x264_i3d.npy\\n'"
      ]
     },
     "execution_count": 3,
     "metadata": {},
     "output_type": "execute_result"
    }
   ],
   "source": [
    "line"
   ]
  },
  {
   "cell_type": "code",
   "execution_count": 4,
   "id": "6f03d2ea-4fa1-45ec-ab9d-d6483fd60471",
   "metadata": {},
   "outputs": [
    {
     "data": {
      "text/plain": [
       "'/home/workspaces/datasets/UCF_Crimes/features_x3d/Abuse001_x264_i3d.npy\\n'"
      ]
     },
     "execution_count": 4,
     "metadata": {},
     "output_type": "execute_result"
    }
   ],
   "source": [
    "line.replace(\"G:\\\\UCF_Train_ten_crop_i3d\\\\\", \"/home/workspaces/datasets/UCF_Crimes/features_x3d/\")"
   ]
  },
  {
   "cell_type": "code",
   "execution_count": 20,
   "id": "c0c5c7b7-58b1-4ccf-8450-ab9cad4a5259",
   "metadata": {
    "scrolled": true,
    "tags": []
   },
   "outputs": [
    {
     "name": "stdout",
     "output_type": "stream",
     "text": [
      "/home/workspaces/datasets/UCF_Crimes/features_x3d/normal/Normal_Videos022_x264.npy\n",
      "/home/workspaces/datasets/UCF_Crimes/features_x3d/normal/Normal_Videos031_x264.npy\n",
      "/home/workspaces/datasets/UCF_Crimes/features_x3d/normal/Normal_Videos045_x264.npy\n",
      "/home/workspaces/datasets/UCF_Crimes/features_x3d/normal/Normal_Videos077_x264.npy\n",
      "/home/workspaces/datasets/UCF_Crimes/features_x3d/normal/Normal_Videos085_x264.npy\n",
      "/home/workspaces/datasets/UCF_Crimes/features_x3d/normal/Normal_Videos130_x264.npy\n",
      "/home/workspaces/datasets/UCF_Crimes/features_x3d/normal/Normal_Videos157_x264.npy\n",
      "/home/workspaces/datasets/UCF_Crimes/features_x3d/normal/Normal_Videos195_x264.npy\n",
      "/home/workspaces/datasets/UCF_Crimes/features_x3d/normal/Normal_Videos271_x264.npy\n",
      "/home/workspaces/datasets/UCF_Crimes/features_x3d/normal/Normal_Videos304_x264.npy\n",
      "/home/workspaces/datasets/UCF_Crimes/features_x3d/normal/Normal_Videos325_x264.npy\n",
      "/home/workspaces/datasets/UCF_Crimes/features_x3d/normal/Normal_Videos351_x264.npy\n",
      "/home/workspaces/datasets/UCF_Crimes/features_x3d/normal/Normal_Videos385_x264.npy\n",
      "/home/workspaces/datasets/UCF_Crimes/features_x3d/normal/Normal_Videos393_x264.npy\n",
      "/home/workspaces/datasets/UCF_Crimes/features_x3d/normal/Normal_Videos444_x264.npy\n",
      "/home/workspaces/datasets/UCF_Crimes/features_x3d/normal/Normal_Videos459_x264.npy\n"
     ]
    }
   ],
   "source": [
    "with open(\"ucf-x3d.list\", 'r') as f:\n",
    "    lines = f.readlines()\n",
    "\n",
    "with open(\"ucf-x3d-removed.list\", 'w') as f:\n",
    "    for line in lines:\n",
    "        if not os.path.isfile(line.replace('\\n', '')):\n",
    "            print(line.replace('\\n', ''))\n",
    "        else:\n",
    "            f.write(line)\n",
    "    "
   ]
  },
  {
   "cell_type": "code",
   "execution_count": 18,
   "id": "383cef91-ea03-4b20-9e0a-759c3ff5805e",
   "metadata": {},
   "outputs": [],
   "source": [
    "with open(\"ucf-x3d-test.list\", 'r') as f:\n",
    "    lines = f.readlines()\n",
    "\n",
    "for line in lines:\n",
    "    if not os.path.isfile(line.replace('\\n', '')):\n",
    "        print(line.replace('\\n', ''))\n",
    "    "
   ]
  },
  {
   "cell_type": "code",
   "execution_count": null,
   "id": "a56597ec-1485-446f-a738-406e783940c3",
   "metadata": {},
   "outputs": [],
   "source": []
  }
 ],
 "metadata": {
  "kernelspec": {
   "display_name": "Python 3 (ipykernel)",
   "language": "python",
   "name": "python3"
  },
  "language_info": {
   "codemirror_mode": {
    "name": "ipython",
    "version": 3
   },
   "file_extension": ".py",
   "mimetype": "text/x-python",
   "name": "python",
   "nbconvert_exporter": "python",
   "pygments_lexer": "ipython3",
   "version": "3.9.12"
  }
 },
 "nbformat": 4,
 "nbformat_minor": 5
}
