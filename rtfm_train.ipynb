{
 "cells": [
  {
   "cell_type": "code",
   "execution_count": 1,
   "id": "170aab75-c141-424d-9e13-0e931474493d",
   "metadata": {
    "scrolled": true,
    "tags": []
   },
   "outputs": [
    {
     "data": {
      "text/plain": [
       "121"
      ]
     },
     "execution_count": 1,
     "metadata": {},
     "output_type": "execute_result"
    }
   ],
   "source": [
    "import os \n",
    "import glob\n",
    "import random\n",
    "\n",
    "# load all data\n",
    "npy_paths = glob.glob('/home/workspaces/datasets/RealLifeTrial/Real-life_Deception_Detection_2016/features_x3d/**/*.npy')\n",
    "len(npy_paths)"
   ]
  },
  {
   "cell_type": "code",
   "execution_count": 2,
   "id": "d2d02f5c-46f0-4e6d-86fd-9dc67129c998",
   "metadata": {
    "scrolled": true,
    "tags": []
   },
   "outputs": [],
   "source": [
    "# split all data to train / test & save list files\n",
    "\n",
    "random.shuffle(npy_paths)\n",
    "train_list = sorted(npy_paths[:int(len(npy_paths)*0.9)])\n",
    "test_list = sorted(npy_paths[int(len(npy_paths)*0.9):])\n",
    "\n",
    "with open('list/rlt-x3d-train.list', 'w') as f:\n",
    "    for line in train_list:\n",
    "        f.write(line + '\\n')\n",
    "\n",
    "with open('list/rlt-x3d-test.list', 'w') as f2:\n",
    "    for line in test_list:\n",
    "        f2.write(line + '\\n')"
   ]
  },
  {
   "cell_type": "code",
   "execution_count": 3,
   "id": "6038f7a6-7154-4a08-a796-faa71d412b45",
   "metadata": {},
   "outputs": [
    {
     "name": "stdout",
     "output_type": "stream",
     "text": [
      "train normal count:  53\n",
      "train abnormal count:  55\n",
      "test normal count:  7\n",
      "test abnormal count:  6\n"
     ]
    }
   ],
   "source": [
    "def get_abnormal_cnt(npylist):\n",
    "\n",
    "    abnormal = ['abnormal', 'Deceptive']\n",
    "    abnormal_cnt = 0\n",
    "    for nl in npylist:\n",
    "        if nl.split('/')[-2] in abnormal:\n",
    "            abnormal_cnt += 1\n",
    "        else:\n",
    "            break\n",
    "\n",
    "    return abnormal_cnt\n",
    "\n",
    "train_abcnt = get_abnormal_cnt(train_list)\n",
    "test_abcnt = get_abnormal_cnt(test_list)\n",
    "\n",
    "print('train normal count: ', len(train_list) - train_abcnt)\n",
    "print('train abnormal count: ', train_abcnt)\n",
    "print('test normal count: ', len(test_list) - test_abcnt)\n",
    "print('test abnormal count: ', test_abcnt)"
   ]
  },
  {
   "cell_type": "code",
   "execution_count": 10,
   "id": "6f05ede7-2e4f-4f4e-bc85-8e4ac00ca1ef",
   "metadata": {},
   "outputs": [],
   "source": [
    "# arguments\n",
    "\n",
    "import argparse\n",
    "\n",
    "parser = argparse.ArgumentParser(description='RTFM')\n",
    "parser.add_argument('--feat-extractor', default='i3d', choices=['i3d', 'c3d'])\n",
    "parser.add_argument('--feature-size', type=int, default=2048, help='size of feature (default: 2048)')\n",
    "parser.add_argument('--modality', default='RGB', help='the type of the input, RGB,AUDIO, or MIX')\n",
    "parser.add_argument('--rgb-list', default='list/rlt-x3d-train.list', help='list of rgb features ')\n",
    "# parser.add_argument('--test-rgb-list', default='list/rlt-x3d-test.list', help='list of test rgb features ')\n",
    "# parser.add_argument('--gt', default='list/gt-ucf-x3d.npy', help='file of ground truth ')\n",
    "parser.add_argument('--gpus', default=1, type=int, choices=[0], help='gpus')\n",
    "parser.add_argument('--lr', type=str, default='[0.001]*15000', help='learning rates for steps(list form)')\n",
    "parser.add_argument('--batch-size', type=int, default=16, help='number of instances in a batch of data (default: 16)')\n",
    "parser.add_argument('--workers', default=8, help='number of workers in dataloader')\n",
    "parser.add_argument('--model-name', default='rtfm_rlt_x3d_tencrop', help='name to save model')\n",
    "parser.add_argument('--pretrained-ckpt', default='ckpt/rtfm_ucf_x3d_tencrop3270-x3d.pkl', help='ckpt for pretrained model')\n",
    "parser.add_argument('--num-classes', type=int, default=1, help='number of class')\n",
    "parser.add_argument('--dataset', default='rlt', help='dataset to train on (default: )')\n",
    "parser.add_argument('--plot-freq', type=int, default=10, help='frequency of plotting (default: 10)')\n",
    "parser.add_argument('--max-epoch', type=int, default=1000, help='maximum iteration to train (default: 100)')\n",
    "parser.add_argument('-f')\n",
    "\n",
    "args = parser.parse_args()"
   ]
  },
  {
   "cell_type": "code",
   "execution_count": 11,
   "id": "51df2bdc-8feb-40c2-86a8-79f173a379ec",
   "metadata": {
    "scrolled": true,
    "tags": []
   },
   "outputs": [
    {
     "name": "stderr",
     "output_type": "stream",
     "text": [
      "Setting up a new session...\n",
      "Without the incoming socket you cannot receive events from the server or register event handlers to your Visdom client.\n"
     ]
    },
    {
     "name": "stdout",
     "output_type": "stream",
     "text": [
      "normal list for rlt\n",
      "['/home/workspaces/datasets/RealLifeTrial/Real-life_Deception_Detection_2016/features_x3d/Truthful/trial_truth_001.npy\\n', '/home/workspaces/datasets/RealLifeTrial/Real-life_Deception_Detection_2016/features_x3d/Truthful/trial_truth_002.npy\\n', '/home/workspaces/datasets/RealLifeTrial/Real-life_Deception_Detection_2016/features_x3d/Truthful/trial_truth_003.npy\\n', '/home/workspaces/datasets/RealLifeTrial/Real-life_Deception_Detection_2016/features_x3d/Truthful/trial_truth_004.npy\\n', '/home/workspaces/datasets/RealLifeTrial/Real-life_Deception_Detection_2016/features_x3d/Truthful/trial_truth_005.npy\\n', '/home/workspaces/datasets/RealLifeTrial/Real-life_Deception_Detection_2016/features_x3d/Truthful/trial_truth_006.npy\\n', '/home/workspaces/datasets/RealLifeTrial/Real-life_Deception_Detection_2016/features_x3d/Truthful/trial_truth_007.npy\\n', '/home/workspaces/datasets/RealLifeTrial/Real-life_Deception_Detection_2016/features_x3d/Truthful/trial_truth_008.npy\\n', '/home/workspaces/datasets/RealLifeTrial/Real-life_Deception_Detection_2016/features_x3d/Truthful/trial_truth_009.npy\\n', '/home/workspaces/datasets/RealLifeTrial/Real-life_Deception_Detection_2016/features_x3d/Truthful/trial_truth_010.npy\\n', '/home/workspaces/datasets/RealLifeTrial/Real-life_Deception_Detection_2016/features_x3d/Truthful/trial_truth_011.npy\\n', '/home/workspaces/datasets/RealLifeTrial/Real-life_Deception_Detection_2016/features_x3d/Truthful/trial_truth_012.npy\\n', '/home/workspaces/datasets/RealLifeTrial/Real-life_Deception_Detection_2016/features_x3d/Truthful/trial_truth_013.npy\\n', '/home/workspaces/datasets/RealLifeTrial/Real-life_Deception_Detection_2016/features_x3d/Truthful/trial_truth_014.npy\\n', '/home/workspaces/datasets/RealLifeTrial/Real-life_Deception_Detection_2016/features_x3d/Truthful/trial_truth_015.npy\\n', '/home/workspaces/datasets/RealLifeTrial/Real-life_Deception_Detection_2016/features_x3d/Truthful/trial_truth_016.npy\\n', '/home/workspaces/datasets/RealLifeTrial/Real-life_Deception_Detection_2016/features_x3d/Truthful/trial_truth_018.npy\\n', '/home/workspaces/datasets/RealLifeTrial/Real-life_Deception_Detection_2016/features_x3d/Truthful/trial_truth_019.npy\\n', '/home/workspaces/datasets/RealLifeTrial/Real-life_Deception_Detection_2016/features_x3d/Truthful/trial_truth_020.npy\\n', '/home/workspaces/datasets/RealLifeTrial/Real-life_Deception_Detection_2016/features_x3d/Truthful/trial_truth_021.npy\\n', '/home/workspaces/datasets/RealLifeTrial/Real-life_Deception_Detection_2016/features_x3d/Truthful/trial_truth_022.npy\\n', '/home/workspaces/datasets/RealLifeTrial/Real-life_Deception_Detection_2016/features_x3d/Truthful/trial_truth_023.npy\\n', '/home/workspaces/datasets/RealLifeTrial/Real-life_Deception_Detection_2016/features_x3d/Truthful/trial_truth_024.npy\\n', '/home/workspaces/datasets/RealLifeTrial/Real-life_Deception_Detection_2016/features_x3d/Truthful/trial_truth_026.npy\\n', '/home/workspaces/datasets/RealLifeTrial/Real-life_Deception_Detection_2016/features_x3d/Truthful/trial_truth_027.npy\\n', '/home/workspaces/datasets/RealLifeTrial/Real-life_Deception_Detection_2016/features_x3d/Truthful/trial_truth_028.npy\\n', '/home/workspaces/datasets/RealLifeTrial/Real-life_Deception_Detection_2016/features_x3d/Truthful/trial_truth_029.npy\\n', '/home/workspaces/datasets/RealLifeTrial/Real-life_Deception_Detection_2016/features_x3d/Truthful/trial_truth_030.npy\\n', '/home/workspaces/datasets/RealLifeTrial/Real-life_Deception_Detection_2016/features_x3d/Truthful/trial_truth_031.npy\\n', '/home/workspaces/datasets/RealLifeTrial/Real-life_Deception_Detection_2016/features_x3d/Truthful/trial_truth_032.npy\\n', '/home/workspaces/datasets/RealLifeTrial/Real-life_Deception_Detection_2016/features_x3d/Truthful/trial_truth_033.npy\\n', '/home/workspaces/datasets/RealLifeTrial/Real-life_Deception_Detection_2016/features_x3d/Truthful/trial_truth_034.npy\\n', '/home/workspaces/datasets/RealLifeTrial/Real-life_Deception_Detection_2016/features_x3d/Truthful/trial_truth_035.npy\\n', '/home/workspaces/datasets/RealLifeTrial/Real-life_Deception_Detection_2016/features_x3d/Truthful/trial_truth_036.npy\\n', '/home/workspaces/datasets/RealLifeTrial/Real-life_Deception_Detection_2016/features_x3d/Truthful/trial_truth_037.npy\\n', '/home/workspaces/datasets/RealLifeTrial/Real-life_Deception_Detection_2016/features_x3d/Truthful/trial_truth_038.npy\\n', '/home/workspaces/datasets/RealLifeTrial/Real-life_Deception_Detection_2016/features_x3d/Truthful/trial_truth_039.npy\\n', '/home/workspaces/datasets/RealLifeTrial/Real-life_Deception_Detection_2016/features_x3d/Truthful/trial_truth_041.npy\\n', '/home/workspaces/datasets/RealLifeTrial/Real-life_Deception_Detection_2016/features_x3d/Truthful/trial_truth_042.npy\\n', '/home/workspaces/datasets/RealLifeTrial/Real-life_Deception_Detection_2016/features_x3d/Truthful/trial_truth_043.npy\\n', '/home/workspaces/datasets/RealLifeTrial/Real-life_Deception_Detection_2016/features_x3d/Truthful/trial_truth_044.npy\\n', '/home/workspaces/datasets/RealLifeTrial/Real-life_Deception_Detection_2016/features_x3d/Truthful/trial_truth_045.npy\\n', '/home/workspaces/datasets/RealLifeTrial/Real-life_Deception_Detection_2016/features_x3d/Truthful/trial_truth_047.npy\\n', '/home/workspaces/datasets/RealLifeTrial/Real-life_Deception_Detection_2016/features_x3d/Truthful/trial_truth_048.npy\\n', '/home/workspaces/datasets/RealLifeTrial/Real-life_Deception_Detection_2016/features_x3d/Truthful/trial_truth_049.npy\\n', '/home/workspaces/datasets/RealLifeTrial/Real-life_Deception_Detection_2016/features_x3d/Truthful/trial_truth_050.npy\\n', '/home/workspaces/datasets/RealLifeTrial/Real-life_Deception_Detection_2016/features_x3d/Truthful/trial_truth_051.npy\\n', '/home/workspaces/datasets/RealLifeTrial/Real-life_Deception_Detection_2016/features_x3d/Truthful/trial_truth_052.npy\\n', '/home/workspaces/datasets/RealLifeTrial/Real-life_Deception_Detection_2016/features_x3d/Truthful/trial_truth_053.npy\\n', '/home/workspaces/datasets/RealLifeTrial/Real-life_Deception_Detection_2016/features_x3d/Truthful/trial_truth_054.npy\\n', '/home/workspaces/datasets/RealLifeTrial/Real-life_Deception_Detection_2016/features_x3d/Truthful/trial_truth_056.npy\\n', '/home/workspaces/datasets/RealLifeTrial/Real-life_Deception_Detection_2016/features_x3d/Truthful/trial_truth_058.npy\\n', '/home/workspaces/datasets/RealLifeTrial/Real-life_Deception_Detection_2016/features_x3d/Truthful/trial_truth_060.npy\\n']\n",
      "length: 53\n",
      "abnormal list for rlt\n",
      "['/home/workspaces/datasets/RealLifeTrial/Real-life_Deception_Detection_2016/features_x3d/Deceptive/trial_lie_001.npy\\n', '/home/workspaces/datasets/RealLifeTrial/Real-life_Deception_Detection_2016/features_x3d/Deceptive/trial_lie_002.npy\\n', '/home/workspaces/datasets/RealLifeTrial/Real-life_Deception_Detection_2016/features_x3d/Deceptive/trial_lie_004.npy\\n', '/home/workspaces/datasets/RealLifeTrial/Real-life_Deception_Detection_2016/features_x3d/Deceptive/trial_lie_005.npy\\n', '/home/workspaces/datasets/RealLifeTrial/Real-life_Deception_Detection_2016/features_x3d/Deceptive/trial_lie_006.npy\\n', '/home/workspaces/datasets/RealLifeTrial/Real-life_Deception_Detection_2016/features_x3d/Deceptive/trial_lie_007.npy\\n', '/home/workspaces/datasets/RealLifeTrial/Real-life_Deception_Detection_2016/features_x3d/Deceptive/trial_lie_008.npy\\n', '/home/workspaces/datasets/RealLifeTrial/Real-life_Deception_Detection_2016/features_x3d/Deceptive/trial_lie_009.npy\\n', '/home/workspaces/datasets/RealLifeTrial/Real-life_Deception_Detection_2016/features_x3d/Deceptive/trial_lie_010.npy\\n', '/home/workspaces/datasets/RealLifeTrial/Real-life_Deception_Detection_2016/features_x3d/Deceptive/trial_lie_011.npy\\n', '/home/workspaces/datasets/RealLifeTrial/Real-life_Deception_Detection_2016/features_x3d/Deceptive/trial_lie_012.npy\\n', '/home/workspaces/datasets/RealLifeTrial/Real-life_Deception_Detection_2016/features_x3d/Deceptive/trial_lie_013.npy\\n', '/home/workspaces/datasets/RealLifeTrial/Real-life_Deception_Detection_2016/features_x3d/Deceptive/trial_lie_014.npy\\n', '/home/workspaces/datasets/RealLifeTrial/Real-life_Deception_Detection_2016/features_x3d/Deceptive/trial_lie_015.npy\\n', '/home/workspaces/datasets/RealLifeTrial/Real-life_Deception_Detection_2016/features_x3d/Deceptive/trial_lie_016.npy\\n', '/home/workspaces/datasets/RealLifeTrial/Real-life_Deception_Detection_2016/features_x3d/Deceptive/trial_lie_017.npy\\n', '/home/workspaces/datasets/RealLifeTrial/Real-life_Deception_Detection_2016/features_x3d/Deceptive/trial_lie_018.npy\\n', '/home/workspaces/datasets/RealLifeTrial/Real-life_Deception_Detection_2016/features_x3d/Deceptive/trial_lie_019.npy\\n', '/home/workspaces/datasets/RealLifeTrial/Real-life_Deception_Detection_2016/features_x3d/Deceptive/trial_lie_020.npy\\n', '/home/workspaces/datasets/RealLifeTrial/Real-life_Deception_Detection_2016/features_x3d/Deceptive/trial_lie_021.npy\\n', '/home/workspaces/datasets/RealLifeTrial/Real-life_Deception_Detection_2016/features_x3d/Deceptive/trial_lie_024.npy\\n', '/home/workspaces/datasets/RealLifeTrial/Real-life_Deception_Detection_2016/features_x3d/Deceptive/trial_lie_026.npy\\n', '/home/workspaces/datasets/RealLifeTrial/Real-life_Deception_Detection_2016/features_x3d/Deceptive/trial_lie_027.npy\\n', '/home/workspaces/datasets/RealLifeTrial/Real-life_Deception_Detection_2016/features_x3d/Deceptive/trial_lie_029.npy\\n', '/home/workspaces/datasets/RealLifeTrial/Real-life_Deception_Detection_2016/features_x3d/Deceptive/trial_lie_030.npy\\n', '/home/workspaces/datasets/RealLifeTrial/Real-life_Deception_Detection_2016/features_x3d/Deceptive/trial_lie_031.npy\\n', '/home/workspaces/datasets/RealLifeTrial/Real-life_Deception_Detection_2016/features_x3d/Deceptive/trial_lie_032.npy\\n', '/home/workspaces/datasets/RealLifeTrial/Real-life_Deception_Detection_2016/features_x3d/Deceptive/trial_lie_033.npy\\n', '/home/workspaces/datasets/RealLifeTrial/Real-life_Deception_Detection_2016/features_x3d/Deceptive/trial_lie_034.npy\\n', '/home/workspaces/datasets/RealLifeTrial/Real-life_Deception_Detection_2016/features_x3d/Deceptive/trial_lie_035.npy\\n', '/home/workspaces/datasets/RealLifeTrial/Real-life_Deception_Detection_2016/features_x3d/Deceptive/trial_lie_036.npy\\n', '/home/workspaces/datasets/RealLifeTrial/Real-life_Deception_Detection_2016/features_x3d/Deceptive/trial_lie_037.npy\\n', '/home/workspaces/datasets/RealLifeTrial/Real-life_Deception_Detection_2016/features_x3d/Deceptive/trial_lie_038.npy\\n', '/home/workspaces/datasets/RealLifeTrial/Real-life_Deception_Detection_2016/features_x3d/Deceptive/trial_lie_039.npy\\n', '/home/workspaces/datasets/RealLifeTrial/Real-life_Deception_Detection_2016/features_x3d/Deceptive/trial_lie_040.npy\\n', '/home/workspaces/datasets/RealLifeTrial/Real-life_Deception_Detection_2016/features_x3d/Deceptive/trial_lie_041.npy\\n', '/home/workspaces/datasets/RealLifeTrial/Real-life_Deception_Detection_2016/features_x3d/Deceptive/trial_lie_042.npy\\n', '/home/workspaces/datasets/RealLifeTrial/Real-life_Deception_Detection_2016/features_x3d/Deceptive/trial_lie_043.npy\\n', '/home/workspaces/datasets/RealLifeTrial/Real-life_Deception_Detection_2016/features_x3d/Deceptive/trial_lie_044.npy\\n', '/home/workspaces/datasets/RealLifeTrial/Real-life_Deception_Detection_2016/features_x3d/Deceptive/trial_lie_045.npy\\n', '/home/workspaces/datasets/RealLifeTrial/Real-life_Deception_Detection_2016/features_x3d/Deceptive/trial_lie_046.npy\\n', '/home/workspaces/datasets/RealLifeTrial/Real-life_Deception_Detection_2016/features_x3d/Deceptive/trial_lie_047.npy\\n', '/home/workspaces/datasets/RealLifeTrial/Real-life_Deception_Detection_2016/features_x3d/Deceptive/trial_lie_048.npy\\n', '/home/workspaces/datasets/RealLifeTrial/Real-life_Deception_Detection_2016/features_x3d/Deceptive/trial_lie_049.npy\\n', '/home/workspaces/datasets/RealLifeTrial/Real-life_Deception_Detection_2016/features_x3d/Deceptive/trial_lie_050.npy\\n', '/home/workspaces/datasets/RealLifeTrial/Real-life_Deception_Detection_2016/features_x3d/Deceptive/trial_lie_051.npy\\n', '/home/workspaces/datasets/RealLifeTrial/Real-life_Deception_Detection_2016/features_x3d/Deceptive/trial_lie_052.npy\\n', '/home/workspaces/datasets/RealLifeTrial/Real-life_Deception_Detection_2016/features_x3d/Deceptive/trial_lie_053.npy\\n', '/home/workspaces/datasets/RealLifeTrial/Real-life_Deception_Detection_2016/features_x3d/Deceptive/trial_lie_054.npy\\n', '/home/workspaces/datasets/RealLifeTrial/Real-life_Deception_Detection_2016/features_x3d/Deceptive/trial_lie_055.npy\\n', '/home/workspaces/datasets/RealLifeTrial/Real-life_Deception_Detection_2016/features_x3d/Deceptive/trial_lie_057.npy\\n', '/home/workspaces/datasets/RealLifeTrial/Real-life_Deception_Detection_2016/features_x3d/Deceptive/trial_lie_058.npy\\n', '/home/workspaces/datasets/RealLifeTrial/Real-life_Deception_Detection_2016/features_x3d/Deceptive/trial_lie_059.npy\\n', '/home/workspaces/datasets/RealLifeTrial/Real-life_Deception_Detection_2016/features_x3d/Deceptive/trial_lie_060.npy\\n', '/home/workspaces/datasets/RealLifeTrial/Real-life_Deception_Detection_2016/features_x3d/Deceptive/trial_lie_061.npy\\n']\n"
     ]
    }
   ],
   "source": [
    "# train\n",
    "\n",
    "from torch.utils.data import DataLoader\n",
    "import torch.optim as optim\n",
    "import torch\n",
    "from utils import save_best_record\n",
    "from model import Model\n",
    "from dataset import Dataset\n",
    "from train import train\n",
    "from test_10crop import test\n",
    "import option\n",
    "from tqdm import tqdm\n",
    "from utils import Visualizer\n",
    "from config import *\n",
    "\n",
    "# init visdom\n",
    "viz = Visualizer(env='RTFM RLT X3D', use_incoming_socket=False)\n",
    "\n",
    "config = Config(args)\n",
    "\n",
    "# DataLoader\n",
    "train_nloader = DataLoader(Dataset(args, test_mode=False, is_normal=True, abnormal_cnt=train_abcnt),\n",
    "                           batch_size=args.batch_size, shuffle=True,\n",
    "                           num_workers=0, pin_memory=False, drop_last=True)\n",
    "train_aloader = DataLoader(Dataset(args, test_mode=False, is_normal=False, abnormal_cnt=train_abcnt),\n",
    "                           batch_size=args.batch_size, shuffle=True,\n",
    "                           num_workers=0, pin_memory=False, drop_last=True)\n",
    "# test_loader = DataLoader(Dataset(args, test_mode=True),\n",
    "#                           batch_size=1, shuffle=False,\n",
    "#                           num_workers=0, pin_memory=False)"
   ]
  },
  {
   "cell_type": "code",
   "execution_count": 13,
   "id": "18c34d98-dee3-49b4-adcf-4f2431aba62c",
   "metadata": {
    "scrolled": true,
    "tags": []
   },
   "outputs": [
    {
     "data": {
      "text/plain": [
       "3"
      ]
     },
     "execution_count": 13,
     "metadata": {},
     "output_type": "execute_result"
    }
   ],
   "source": [
    "len(train_nloader)"
   ]
  },
  {
   "cell_type": "code",
   "execution_count": 14,
   "id": "758e1c2d-225e-4bdc-83c3-e5d3f4df8eb9",
   "metadata": {
    "scrolled": true,
    "tags": []
   },
   "outputs": [
    {
     "name": "stdout",
     "output_type": "stream",
     "text": [
      "Model(\n",
      "  (Aggregate): Aggregate(\n",
      "    (conv_1): Sequential(\n",
      "      (0): Conv1d(2048, 512, kernel_size=(3,), stride=(1,), padding=(1,))\n",
      "      (1): ReLU()\n",
      "      (2): BatchNorm1d(512, eps=1e-05, momentum=0.1, affine=True, track_running_stats=True)\n",
      "    )\n",
      "    (conv_2): Sequential(\n",
      "      (0): Conv1d(2048, 512, kernel_size=(3,), stride=(1,), padding=(2,), dilation=(2,))\n",
      "      (1): ReLU()\n",
      "      (2): BatchNorm1d(512, eps=1e-05, momentum=0.1, affine=True, track_running_stats=True)\n",
      "    )\n",
      "    (conv_3): Sequential(\n",
      "      (0): Conv1d(2048, 512, kernel_size=(3,), stride=(1,), padding=(4,), dilation=(4,))\n",
      "      (1): ReLU()\n",
      "      (2): BatchNorm1d(512, eps=1e-05, momentum=0.1, affine=True, track_running_stats=True)\n",
      "    )\n",
      "    (conv_4): Sequential(\n",
      "      (0): Conv1d(2048, 512, kernel_size=(1,), stride=(1,), bias=False)\n",
      "      (1): ReLU()\n",
      "    )\n",
      "    (conv_5): Sequential(\n",
      "      (0): Conv1d(2048, 2048, kernel_size=(3,), stride=(1,), padding=(1,), bias=False)\n",
      "      (1): ReLU()\n",
      "      (2): BatchNorm1d(2048, eps=1e-05, momentum=0.1, affine=True, track_running_stats=True)\n",
      "    )\n",
      "    (non_local): NONLocalBlock1D(\n",
      "      (g): Conv1d(512, 256, kernel_size=(1,), stride=(1,))\n",
      "      (W): Sequential(\n",
      "        (0): Conv1d(256, 512, kernel_size=(1,), stride=(1,))\n",
      "        (1): BatchNorm1d(512, eps=1e-05, momentum=0.1, affine=True, track_running_stats=True)\n",
      "      )\n",
      "      (theta): Conv1d(512, 256, kernel_size=(1,), stride=(1,))\n",
      "      (phi): Conv1d(512, 256, kernel_size=(1,), stride=(1,))\n",
      "    )\n",
      "  )\n",
      "  (fc1): Linear(in_features=2048, out_features=512, bias=True)\n",
      "  (fc2): Linear(in_features=512, out_features=128, bias=True)\n",
      "  (fc3): Linear(in_features=128, out_features=1, bias=True)\n",
      "  (drop_out): Dropout(p=0.7, inplace=False)\n",
      "  (relu): ReLU()\n",
      "  (sigmoid): Sigmoid()\n",
      ")\n"
     ]
    }
   ],
   "source": [
    "# load model\n",
    "\n",
    "model = Model(args.feature_size, args.batch_size)\n",
    "\n",
    "model.load_state_dict(torch.load(args.pretrained_ckpt))\n",
    "\n",
    "# for name, value in model.named_parameters():\n",
    "#     print(name)\n",
    "print(model)\n",
    "\n",
    "device = torch.device('cuda' if torch.cuda.is_available() else 'cpu')\n",
    "model = model.to(device)\n",
    "\n",
    "if not os.path.exists('./ckpt'):\n",
    "    os.makedirs('./ckpt')\n",
    "    "
   ]
  },
  {
   "cell_type": "code",
   "execution_count": 7,
   "id": "e42a056b-b35e-4124-9899-e9299193a7ed",
   "metadata": {},
   "outputs": [],
   "source": [
    "# args.max_epoch = 1000"
   ]
  },
  {
   "cell_type": "code",
   "execution_count": 15,
   "id": "44648d8b-05a9-4dd3-b2d0-45b5a384d522",
   "metadata": {
    "scrolled": true,
    "tags": []
   },
   "outputs": [
    {
     "name": "stderr",
     "output_type": "stream",
     "text": [
      "100%|██████████| 1000/1000 [03:15<00:00,  5.11it/s]\n"
     ]
    }
   ],
   "source": [
    "\n",
    "\n",
    "optimizer = optim.Adam(model.parameters(),\n",
    "                        lr=config.lr[0], weight_decay=0.005)\n",
    "\n",
    "scheduler = optim.lr_scheduler.StepLR(optimizer, step_size=100, gamma=0.9)\n",
    "\n",
    "# test_info = {\"epoch\": [], \"test_AUC\": []}\n",
    "best_AUC = -1\n",
    "output_path = ''   # put your own path here\n",
    "# auc = test(test_loader, model, args, viz, device)\n",
    "\n",
    "for step in tqdm(\n",
    "        range(1, args.max_epoch + 1),\n",
    "        total=args.max_epoch,\n",
    "        dynamic_ncols=True\n",
    "):\n",
    "    if step > 1 and config.lr[step - 1] != config.lr[step - 2]:\n",
    "        for param_group in optimizer.param_groups:\n",
    "            param_group[\"lr\"] = config.lr[step - 1]\n",
    "\n",
    "    if (step - 1) % len(train_nloader) == 0:\n",
    "        loadern_iter = iter(train_nloader)\n",
    "\n",
    "    if (step - 1) % len(train_aloader) == 0:\n",
    "        loadera_iter = iter(train_aloader)\n",
    "\n",
    "    train(loadern_iter, loadera_iter, model, args.batch_size, optimizer, viz, device)\n",
    "    scheduler.step()\n",
    "    \n",
    "    if step % 100 == 0 and step > 200:\n",
    "\n",
    "        # auc = test(test_loader, model, args, viz, device)\n",
    "        # test_info[\"epoch\"].append(step)\n",
    "        # test_info[\"test_AUC\"].append(auc)\n",
    "\n",
    "        # if test_info[\"test_AUC\"][-1] > best_AUC:\n",
    "            # best_AUC = test_info[\"test_AUC\"][-1]\n",
    "        torch.save(model.state_dict(), './ckpt/' + args.model_name + '{}-x3d.pkl'.format(step))\n",
    "            # save_best_record(test_info, os.path.join(output_path, '{}-step-AUC.txt'.format(step)))\n",
    "            \n",
    "\n",
    "torch.save(model.state_dict(), './ckpt/' + args.model_name + 'final.pkl')"
   ]
  },
  {
   "cell_type": "code",
   "execution_count": null,
   "id": "0b2f2a3f-2385-45a0-945a-263dcc2b19ef",
   "metadata": {},
   "outputs": [],
   "source": [
    "torch.save(model.state_dict(), './ckpt/' + args.model_name + 'final.pkl')"
   ]
  },
  {
   "cell_type": "code",
   "execution_count": null,
   "id": "f4520575-549d-4803-8eee-33e1ae0f3b5f",
   "metadata": {},
   "outputs": [],
   "source": []
  }
 ],
 "metadata": {
  "kernelspec": {
   "display_name": "rtfm",
   "language": "python",
   "name": "rtfm"
  },
  "language_info": {
   "codemirror_mode": {
    "name": "ipython",
    "version": 3
   },
   "file_extension": ".py",
   "mimetype": "text/x-python",
   "name": "python",
   "nbconvert_exporter": "python",
   "pygments_lexer": "ipython3",
   "version": "3.8.13"
  }
 },
 "nbformat": 4,
 "nbformat_minor": 5
}
